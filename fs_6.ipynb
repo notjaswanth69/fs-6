{
  "nbformat": 4,
  "nbformat_minor": 0,
  "metadata": {
    "colab": {
      "provenance": [],
      "authorship_tag": "ABX9TyPrZFPruCriBUoX3sjxIJLR",
      "include_colab_link": true
    },
    "kernelspec": {
      "name": "python3",
      "display_name": "Python 3"
    },
    "language_info": {
      "name": "python"
    }
  },
  "cells": [
    {
      "cell_type": "markdown",
      "metadata": {
        "id": "view-in-github",
        "colab_type": "text"
      },
      "source": [
        "<a href=\"https://colab.research.google.com/github/notjaswanth69/fs-6/blob/main/fs_6.ipynb\" target=\"_parent\"><img src=\"https://colab.research.google.com/assets/colab-badge.svg\" alt=\"Open In Colab\"/></a>"
      ]
    },
    {
      "cell_type": "code",
      "source": [
        "import pandas as pd\n",
        "import numpy as np\n",
        "from sklearn.preprocessing import LabelEncoder\n",
        "from sklearn.model_selection import train_test_split\n",
        "from sklearn.linear_model import LinearRegression\n",
        "from sklearn.metrics import mean_absolute_error\n",
        "\n",
        "# Load the dataset\n",
        "data = pd.read_csv('/content/melbourne_housing_raw.csv')\n",
        "\n",
        "# Encode categorical features\n",
        "label_encoder = LabelEncoder()\n",
        "for column in data.select_dtypes(include=['object']).columns:\n",
        "    data[column] = label_encoder.fit_transform(data[column])\n",
        "\n",
        "# Define features and target variable\n",
        "X = data.drop('Propertycount', axis=1)\n",
        "y = data['Propertycount']\n",
        "\n",
        "# Check for and handle missing values in the target variable\n",
        "if y.isnull().any():\n",
        "    y = y.dropna()\n",
        "    X = X.loc[y.index]\n",
        "\n",
        "# Drop any remaining missing values in features\n",
        "X_dropped = X.dropna()\n",
        "\n",
        "# Split the data into training and testing sets\n",
        "X_train, X_test, y_train, y_test = train_test_split(X_dropped, y[X_dropped.index], test_size=0.3, random_state=42)\n",
        "\n",
        "# Filter low variance features\n",
        "variances = np.var(X_train, axis=0)\n",
        "selected_columns = X_train.columns[variances > 4]\n",
        "X_train_filtered = X_train[selected_columns]\n",
        "X_test_filtered = X_test[selected_columns]\n",
        "\n",
        "# Display feature counts\n",
        "print(f\"Total features before filtering: {X_train.shape[1]}\")\n",
        "print(f\"Total features after filtering: {X_train_filtered.shape[1]}\")\n",
        "\n",
        "# Train and evaluate model before filtering low variance features\n",
        "model = LinearRegression()\n",
        "model.fit(X_train, y_train)\n",
        "y_pred_before = model.predict(X_test)\n",
        "mae_before = mean_absolute_error(y_test, y_pred_before)\n",
        "print(f\"MAE before filtering low variance features: {mae_before}\")\n",
        "\n",
        "# Train and evaluate model after filtering low variance features\n",
        "model.fit(X_train_filtered, y_train)\n",
        "y_pred_after = model.predict(X_test_filtered)\n",
        "mae_after = mean_absolute_error(y_test, y_pred_after)\n",
        "print(f\"MAE after filtering low variance features: {mae_after}\")"
      ],
      "metadata": {
        "colab": {
          "base_uri": "https://localhost:8080/"
        },
        "id": "CGkju6HbBu4M",
        "outputId": "f47df61f-f20f-4475-8615-f033bd308a05"
      },
      "execution_count": 1,
      "outputs": [
        {
          "output_type": "stream",
          "name": "stdout",
          "text": [
            "Total features before filtering: 19\n",
            "Total features after filtering: 11\n",
            "MAE before filtering low variance features: 3462.358899620885\n",
            "MAE after filtering low variance features: 3473.768792792215\n"
          ]
        }
      ]
    }
  ]
}